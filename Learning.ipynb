{
 "cells": [
  {
   "cell_type": "markdown",
   "source": [
    "# test megengine grad\n"
   ],
   "metadata": {
    "collapsed": false,
    "pycharm": {
     "name": "#%% md\n"
    }
   }
  },
  {
   "cell_type": "code",
   "execution_count": 1,
   "outputs": [
    {
     "data": {
      "text/plain": "Tensor([2.], device=xpux:0)"
     },
     "execution_count": 1,
     "metadata": {},
     "output_type": "execute_result"
    }
   ],
   "source": [
    "from megengine import Tensor\n",
    "\n",
    "x = Tensor([3.])\n",
    "w = Tensor([2.])\n",
    "b = Tensor([-1.])\n",
    "y = w * x + b\n",
    "from megengine.autodiff import GradManager\n",
    "\n",
    "with GradManager() as gm:\n",
    "    gm.attach(x)\n",
    "    y = w * x + b\n",
    "    gm.backward(y)  # dy/dx = w\n",
    "x.grad"
   ],
   "metadata": {
    "collapsed": false,
    "pycharm": {
     "name": "#%%\n"
    }
   }
  },
  {
   "cell_type": "markdown",
   "source": [
    "# Main Code for XOR"
   ],
   "metadata": {
    "collapsed": false,
    "pycharm": {
     "name": "#%% md\n"
    }
   }
  },
  {
   "cell_type": "markdown",
   "source": [
    "## Dataset definition"
   ],
   "metadata": {
    "collapsed": false,
    "pycharm": {
     "name": "#%% md\n"
    }
   }
  },
  {
   "cell_type": "code",
   "execution_count": 2,
   "outputs": [
    {
     "name": "stdout",
     "output_type": "stream",
     "text": [
      "6000\n",
      "[[1. 1.]\n",
      " [0. 0.]\n",
      " [1. 1.]\n",
      " [1. 1.]\n",
      " [1. 1.]\n",
      " [0. 0.]\n",
      " [0. 1.]\n",
      " [0. 1.]\n",
      " [1. 0.]\n",
      " [0. 1.]\n",
      " [0. 1.]\n",
      " [1. 1.]\n",
      " [0. 1.]\n",
      " [1. 1.]\n",
      " [1. 0.]\n",
      " [1. 0.]\n",
      " [1. 1.]\n",
      " [0. 1.]\n",
      " [1. 0.]\n",
      " [0. 1.]\n",
      " [0. 1.]\n",
      " [0. 1.]\n",
      " [0. 0.]\n",
      " [0. 0.]\n",
      " [0. 0.]\n",
      " [1. 0.]\n",
      " [0. 1.]\n",
      " [1. 1.]\n",
      " [1. 1.]\n",
      " [0. 1.]\n",
      " [0. 0.]\n",
      " [1. 1.]\n",
      " [1. 0.]\n",
      " [1. 1.]\n",
      " [1. 1.]\n",
      " [1. 1.]\n",
      " [1. 0.]\n",
      " [1. 1.]\n",
      " [1. 0.]\n",
      " [1. 1.]\n",
      " [0. 1.]\n",
      " [1. 0.]\n",
      " [1. 0.]\n",
      " [0. 0.]\n",
      " [0. 0.]\n",
      " [1. 0.]\n",
      " [1. 0.]\n",
      " [1. 0.]\n",
      " [1. 1.]\n",
      " [1. 1.]]\n",
      "<class 'numpy.ndarray'>\n",
      "[0. 0. 0. 0. 0. 0. 1. 1. 1. 1. 1. 0. 1. 0. 1. 1. 0. 1. 1. 1. 1. 1. 0. 0.\n",
      " 0. 1. 1. 0. 0. 1. 0. 0. 1. 0. 0. 0. 1. 0. 1. 0. 1. 1. 1. 0. 0. 1. 1. 1.\n",
      " 0. 0.]\n",
      "-------\n"
     ]
    }
   ],
   "source": [
    "from megengine.data import DataLoader, RandomSampler\n",
    "import megengine\n",
    "import numpy as np\n",
    "from megengine.data.dataset import Dataset\n",
    "\n",
    "\n",
    "class XOR_Dataset(Dataset):\n",
    "    def __init__(self, dataset_size=6000):\n",
    "        super(XOR_Dataset, self).__init__()\n",
    "        self.dataset_size = dataset_size\n",
    "        self.input_data = np.round(np.random.rand(self.dataset_size, 2)).astype(np.uint)  # (N,2)\n",
    "        self.label = self.input_data[..., 0] ^ self.input_data[..., 1]\n",
    "\n",
    "    def __len__(self):\n",
    "        return self.dataset_size\n",
    "\n",
    "    def __getitem__(self, index):\n",
    "        return self.input_data[index].astype(np.float32), self.label[index].astype(np.float32)\n",
    "\n",
    "\n",
    "train_dataset = XOR_Dataset()\n",
    "train_dataloader = DataLoader(train_dataset, sampler=RandomSampler(dataset=train_dataset, batch_size=50))\n",
    "test_dataset = XOR_Dataset()\n",
    "test_sampler = megengine.data.SequentialSampler(test_dataset, batch_size=50)\n",
    "test_dataloader = DataLoader(test_dataset,sampler=test_sampler)\n",
    "print(len(train_dataloader.dataset))\n",
    "for x, y in train_dataloader:\n",
    "    print(x)\n",
    "    print(type(x))\n",
    "    print(y)\n",
    "    print('-------')\n",
    "    break"
   ],
   "metadata": {
    "collapsed": false,
    "pycharm": {
     "name": "#%%\n"
    }
   }
  },
  {
   "cell_type": "markdown",
   "source": [
    "## network definition"
   ],
   "metadata": {
    "collapsed": false,
    "pycharm": {
     "name": "#%% md\n"
    }
   }
  },
  {
   "cell_type": "code",
   "execution_count": 3,
   "outputs": [
    {
     "name": "stdout",
     "output_type": "stream",
     "text": [
      "Tensor([0.665], device=xpux:0)\n"
     ]
    }
   ],
   "source": [
    "import math\n",
    "import megengine.functional as F\n",
    "import megengine.module as M\n",
    "\n",
    "\n",
    "class XOR_Net(M.Module):\n",
    "    def __init__(self):\n",
    "        super().__init__()\n",
    "        self.fc1 = M.Linear(2, 10)\n",
    "        self.fc2 = M.Linear(10, 1)\n",
    "        # self.init_self()\n",
    "\n",
    "    def forward(self, input):\n",
    "        x = F.relu(self.fc1(input))\n",
    "        x = F.sigmoid(self.fc2(x))\n",
    "        return x\n",
    "\n",
    "    def init_self(self):\n",
    "        for m in self.modules():\n",
    "            if isinstance(m, M.Conv2d):\n",
    "                M.init.msra_normal_(m.weight, mode=\"fan_out\", nonlinearity=\"relu\")\n",
    "                if m.bias is not None:\n",
    "                    fan_in, _ = M.init.calculate_fan_in_and_fan_out(m.weight)\n",
    "                    bound = 1 / math.sqrt(fan_in)\n",
    "                    M.init.uniform_(m.bias, -bound, bound)\n",
    "            elif isinstance(m, M.BatchNorm2d):\n",
    "                M.init.ones_(m.weight)\n",
    "                M.init.zeros_(m.bias)\n",
    "            elif isinstance(m, M.Linear):\n",
    "                M.init.msra_uniform_(m.weight, a=math.sqrt(5))\n",
    "                if m.bias is not None:\n",
    "                    fan_in, _ = M.init.calculate_fan_in_and_fan_out(m.weight)\n",
    "                    bound = 1 / math.sqrt(fan_in)\n",
    "                    M.init.uniform_(m.bias, -bound, bound)\n",
    "\n",
    "\n",
    "my_net = XOR_Net()\n",
    "\n",
    "print(my_net(megengine.Tensor([1, 1])))"
   ],
   "metadata": {
    "collapsed": false,
    "pycharm": {
     "name": "#%%\n"
    }
   }
  },
  {
   "cell_type": "markdown",
   "source": [
    "## train loop"
   ],
   "metadata": {
    "collapsed": false,
    "pycharm": {
     "name": "#%% md\n"
    }
   }
  },
  {
   "cell_type": "code",
   "execution_count": 4,
   "outputs": [
    {
     "name": "stdout",
     "output_type": "stream",
     "text": [
      "Epoch = 0, train_loss = 0.472, train_acc = 0.894, val_acc = 1.000\n",
      "Epoch = 1, train_loss = 0.135, train_acc = 1.000, val_acc = 1.000\n",
      "Epoch = 2, train_loss = 0.051, train_acc = 1.000, val_acc = 1.000\n",
      "Epoch = 3, train_loss = 0.027, train_acc = 1.000, val_acc = 1.000\n",
      "Epoch = 4, train_loss = 0.017, train_acc = 1.000, val_acc = 1.000\n",
      "Epoch = 5, train_loss = 0.012, train_acc = 1.000, val_acc = 1.000\n",
      "Epoch = 6, train_loss = 0.009, train_acc = 1.000, val_acc = 1.000\n",
      "Epoch = 7, train_loss = 0.007, train_acc = 1.000, val_acc = 1.000\n",
      "Epoch = 8, train_loss = 0.006, train_acc = 1.000, val_acc = 1.000\n",
      "Epoch = 9, train_loss = 0.005, train_acc = 1.000, val_acc = 1.000\n",
      "Epoch = 10, train_loss = 0.004, train_acc = 1.000, val_acc = 1.000\n",
      "Epoch = 11, train_loss = 0.003, train_acc = 1.000, val_acc = 1.000\n",
      "Epoch = 12, train_loss = 0.003, train_acc = 1.000, val_acc = 1.000\n",
      "Epoch = 13, train_loss = 0.002, train_acc = 1.000, val_acc = 1.000\n",
      "Epoch = 14, train_loss = 0.002, train_acc = 1.000, val_acc = 1.000\n",
      "Epoch = 15, train_loss = 0.002, train_acc = 1.000, val_acc = 1.000\n",
      "Epoch = 16, train_loss = 0.002, train_acc = 1.000, val_acc = 1.000\n",
      "Epoch = 17, train_loss = 0.001, train_acc = 1.000, val_acc = 1.000\n",
      "Epoch = 18, train_loss = 0.001, train_acc = 1.000, val_acc = 1.000\n",
      "Epoch = 19, train_loss = 0.001, train_acc = 1.000, val_acc = 1.000\n"
     ]
    }
   ],
   "source": [
    "from megengine.autodiff import GradManager\n",
    "import megengine.optimizer as optim\n",
    "\n",
    "gm = GradManager().attach(my_net.parameters())\n",
    "optimizer = optim.Adam(my_net.parameters(), lr=0.01)  # lr may vary with different model\n",
    "\n",
    "nums_epoch = 20\n",
    "for epoch in range(nums_epoch):\n",
    "    training_loss = 0\n",
    "    nums_train_correct, nums_train_example = 0, 0\n",
    "    nums_val_correct, nums_val_example = 0, 0\n",
    "\n",
    "    for step, (data, label) in enumerate(train_dataloader):\n",
    "    # for step, (data, label) in enumerate(train_dataset):\n",
    "        data = megengine.Tensor(data)\n",
    "        label = megengine.Tensor(label)\n",
    "\n",
    "        with gm:\n",
    "            score = my_net(data).flatten()\n",
    "            loss = F.nn.binary_cross_entropy(score, label,with_logits = False)\n",
    "            gm.backward(loss)\n",
    "            optimizer.step().clear_grad()\n",
    "\n",
    "        training_loss += loss.item() * len(data)\n",
    "\n",
    "        # pred = F.argmax(score, axis=1)\n",
    "        pred = F.round(score).flatten()\n",
    "        nums_train_correct += (pred == label).sum().item()\n",
    "        nums_train_example += len(data)\n",
    "\n",
    "    training_acc = nums_train_correct / nums_train_example\n",
    "    training_loss /= nums_train_example\n",
    "\n",
    "    for data, label in test_dataloader:\n",
    "        data = megengine.Tensor(data)\n",
    "        label = megengine.Tensor(label)\n",
    "        pred = F.round(my_net(data)).flatten()\n",
    "\n",
    "        nums_val_correct += (pred == label).sum().item()\n",
    "        nums_val_example += len(data)\n",
    "\n",
    "    val_acc = nums_val_correct / nums_val_example\n",
    "\n",
    "    print(f\"Epoch = {epoch}, \"\n",
    "          f\"train_loss = {training_loss:.3f}, \"\n",
    "          f\"train_acc = {training_acc:.3f}, \"\n",
    "          f\"val_acc = {val_acc:.3f}\")\n"
   ],
   "metadata": {
    "collapsed": false,
    "pycharm": {
     "name": "#%%\n"
    }
   }
  },
  {
   "cell_type": "code",
   "execution_count": 5,
   "outputs": [],
   "source": [
    "## test load model"
   ],
   "metadata": {
    "collapsed": false,
    "pycharm": {
     "name": "#%%\n"
    }
   }
  },
  {
   "cell_type": "code",
   "execution_count": 6,
   "outputs": [
    {
     "ename": "ValueError",
     "evalue": "param `fc1.bias` shape mismatch, should be (10,), get (2,)",
     "output_type": "error",
     "traceback": [
      "\u001B[1;31m---------------------------------------------------------------------------\u001B[0m",
      "\u001B[1;31mValueError\u001B[0m                                Traceback (most recent call last)",
      "Input \u001B[1;32mIn [6]\u001B[0m, in \u001B[0;36m<cell line: 1>\u001B[1;34m()\u001B[0m\n\u001B[1;32m----> 1\u001B[0m \u001B[43mmy_net\u001B[49m\u001B[38;5;241;43m.\u001B[39;49m\u001B[43mload_state_dict\u001B[49m\u001B[43m(\u001B[49m\u001B[43mmegengine\u001B[49m\u001B[38;5;241;43m.\u001B[39;49m\u001B[43mload\u001B[49m\u001B[43m(\u001B[49m\u001B[38;5;124;43m'\u001B[39;49m\u001B[38;5;124;43mxornet_state_dict.pkl\u001B[39;49m\u001B[38;5;124;43m'\u001B[39;49m\u001B[43m)\u001B[49m\u001B[43m)\u001B[49m\n\u001B[0;32m      3\u001B[0m nums_val_correct, nums_val_example \u001B[38;5;241m=\u001B[39m \u001B[38;5;241m0\u001B[39m, \u001B[38;5;241m0\u001B[39m\n\u001B[0;32m      4\u001B[0m \u001B[38;5;28;01mfor\u001B[39;00m data, label \u001B[38;5;129;01min\u001B[39;00m test_dataloader:\n",
      "File \u001B[1;32m~\\anaconda3\\envs\\meg\\lib\\site-packages\\megengine\\module\\module.py:550\u001B[0m, in \u001B[0;36mModule.load_state_dict\u001B[1;34m(self, state_dict, strict)\u001B[0m\n\u001B[0;32m    543\u001B[0m \u001B[38;5;28;01melse\u001B[39;00m:\n\u001B[0;32m    544\u001B[0m     \u001B[38;5;28;01mraise\u001B[39;00m \u001B[38;5;167;01mValueError\u001B[39;00m(\n\u001B[0;32m    545\u001B[0m         \u001B[38;5;124m\"\u001B[39m\u001B[38;5;124m`state_dict` must load a dict or callable, got \u001B[39m\u001B[38;5;132;01m{}\u001B[39;00m\u001B[38;5;124m\"\u001B[39m\u001B[38;5;241m.\u001B[39mformat(\n\u001B[0;32m    546\u001B[0m             \u001B[38;5;28mtype\u001B[39m(state_dict)\n\u001B[0;32m    547\u001B[0m         )\n\u001B[0;32m    548\u001B[0m     )\n\u001B[1;32m--> 550\u001B[0m loaded, skipped \u001B[38;5;241m=\u001B[39m \u001B[38;5;28;43mself\u001B[39;49m\u001B[38;5;241;43m.\u001B[39;49m\u001B[43m_load_state_dict_with_closure\u001B[49m\u001B[43m(\u001B[49m\u001B[43mclosure\u001B[49m\u001B[43m)\u001B[49m\n\u001B[0;32m    551\u001B[0m unused \u001B[38;5;241m=\u001B[39m \u001B[38;5;28mset\u001B[39m(unused) \u001B[38;5;241m-\u001B[39m loaded\n\u001B[0;32m    553\u001B[0m \u001B[38;5;28;01mif\u001B[39;00m \u001B[38;5;28mlen\u001B[39m(unused) \u001B[38;5;241m!=\u001B[39m \u001B[38;5;241m0\u001B[39m:\n",
      "File \u001B[1;32m~\\anaconda3\\envs\\meg\\lib\\site-packages\\megengine\\module\\module.py:610\u001B[0m, in \u001B[0;36mModule._load_state_dict_with_closure\u001B[1;34m(self, closure)\u001B[0m\n\u001B[0;32m    604\u001B[0m             \u001B[38;5;28;01mraise\u001B[39;00m \u001B[38;5;167;01mValueError\u001B[39;00m(\n\u001B[0;32m    605\u001B[0m                 \u001B[38;5;124m\"\u001B[39m\u001B[38;5;124mparam `\u001B[39m\u001B[38;5;132;01m{}\u001B[39;00m\u001B[38;5;124m` size mismatch, should be \u001B[39m\u001B[38;5;132;01m{}\u001B[39;00m\u001B[38;5;124m, get \u001B[39m\u001B[38;5;132;01m{}\u001B[39;00m\u001B[38;5;124m\"\u001B[39m\u001B[38;5;241m.\u001B[39mformat(\n\u001B[0;32m    606\u001B[0m                     k, np\u001B[38;5;241m.\u001B[39mprod(var_shape), np\u001B[38;5;241m.\u001B[39mprod(to_be_load_shape)\n\u001B[0;32m    607\u001B[0m                 )\n\u001B[0;32m    608\u001B[0m             )\n\u001B[0;32m    609\u001B[0m     \u001B[38;5;28;01melse\u001B[39;00m:\n\u001B[1;32m--> 610\u001B[0m         \u001B[38;5;28;01mraise\u001B[39;00m \u001B[38;5;167;01mValueError\u001B[39;00m(\n\u001B[0;32m    611\u001B[0m             \u001B[38;5;124m\"\u001B[39m\u001B[38;5;124mparam `\u001B[39m\u001B[38;5;132;01m{}\u001B[39;00m\u001B[38;5;124m` shape mismatch, should be \u001B[39m\u001B[38;5;132;01m{}\u001B[39;00m\u001B[38;5;124m, get \u001B[39m\u001B[38;5;132;01m{}\u001B[39;00m\u001B[38;5;124m\"\u001B[39m\u001B[38;5;241m.\u001B[39mformat(\n\u001B[0;32m    612\u001B[0m                 k, var_shape, to_be_load_shape\n\u001B[0;32m    613\u001B[0m             )\n\u001B[0;32m    614\u001B[0m         )\n\u001B[0;32m    615\u001B[0m var\u001B[38;5;241m.\u001B[39m_reset(\n\u001B[0;32m    616\u001B[0m     \u001B[38;5;28mtype\u001B[39m(var)(\n\u001B[0;32m    617\u001B[0m         to_be_load, dtype\u001B[38;5;241m=\u001B[39mto_be_load\u001B[38;5;241m.\u001B[39mdtype, device\u001B[38;5;241m=\u001B[39mvar\u001B[38;5;241m.\u001B[39mdevice, no_cache\u001B[38;5;241m=\u001B[39m\u001B[38;5;28;01mTrue\u001B[39;00m\n\u001B[0;32m    618\u001B[0m     )\n\u001B[0;32m    619\u001B[0m )\n\u001B[0;32m    620\u001B[0m loaded\u001B[38;5;241m.\u001B[39mappend(k)\n",
      "\u001B[1;31mValueError\u001B[0m: param `fc1.bias` shape mismatch, should be (10,), get (2,)"
     ]
    }
   ],
   "source": [
    "# my_net.load_state_dict(megengine.load('xornet_state_dict.pkl'))\n",
    "\n",
    "# nums_val_correct, nums_val_example = 0, 0\n",
    "# for data, label in test_dataloader:\n",
    "#     data = megengine.Tensor(data)\n",
    "#     label = megengine.Tensor(label)\n",
    "#     pred = F.round(my_net(data)).flatten()\n",
    "#\n",
    "#     nums_val_correct += (pred == label).sum().item()\n",
    "#     nums_val_example += len(data)\n",
    "#\n",
    "# val_acc = nums_val_correct / nums_val_example\n",
    "#\n",
    "# print(f\"val_acc = {val_acc:.3f}\")"
   ],
   "metadata": {
    "collapsed": false,
    "pycharm": {
     "name": "#%%\n"
    }
   }
  }
 ],
 "metadata": {
  "kernelspec": {
   "display_name": "Python 3",
   "language": "python",
   "name": "python3"
  },
  "language_info": {
   "codemirror_mode": {
    "name": "ipython",
    "version": 2
   },
   "file_extension": ".py",
   "mimetype": "text/x-python",
   "name": "python",
   "nbconvert_exporter": "python",
   "pygments_lexer": "ipython2",
   "version": "2.7.6"
  }
 },
 "nbformat": 4,
 "nbformat_minor": 0
}